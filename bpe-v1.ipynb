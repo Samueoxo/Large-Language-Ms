{
 "cells": [
  {
   "cell_type": "code",
   "execution_count": null,
   "metadata": {},
   "outputs": [],
   "source": [
    "from tokenizers import Tokenizer\n",
    "from tokenizers.models import BPE\n",
    "from tokenizers.trainers import BpeTrainer\n",
    "from tokenizers.pre_tokenizers import Whitespace\n",
    "\n",
    "\n"
   ]
  },
  {
   "cell_type": "code",
   "execution_count": null,
   "metadata": {},
   "outputs": [],
   "source": [
    "# write val_split.txt to a file called tokenizer_training.txt that is 5% of the original size\n",
    "with open(\"val_split.txt\", \"r\") as file:\n",
    "    lines = file.readlines()\n",
    "    with open(\"tokenizer_training.txt\", \"w\") as file:\n",
    "        for i in range(0, int(len(lines) * 0.05)):\n",
    "            file.write(lines[i])"
   ]
  },
  {
   "cell_type": "code",
   "execution_count": null,
   "metadata": {},
   "outputs": [],
   "source": [
    "# Initialize a tokenizer with BPE model\n",
    "tokenizer = Tokenizer(BPE(unk_token=\"[UNK]\"))\n",
    "tokenizer.pre_tokenizer = Whitespace()\n",
    "\n",
    "# Create a BpeTrainer with your desired vocabulary size\n",
    "vocab_size = 50000  # Adjust the vocabulary size here\n",
    "trainer = BpeTrainer(special_tokens=[\"[UNK]\", \"[CLS]\", \"[SEP]\", \"[PAD]\", \"[MASK]\"], vocab_size=vocab_size)\n",
    "\n",
    "# List of files to train the tokenizer on\n",
    "files = [\"tokenizer_training.txt\"]\n",
    "\n",
    "# Train the tokenizer\n",
    "tokenizer.train(files, trainer)\n",
    "\n",
    "# Save the tokenizer\n",
    "tokenizer.save(\"bpe_tokenizer.json\")"
   ]
  },
  {
   "cell_type": "code",
   "execution_count": null,
   "metadata": {},
   "outputs": [],
   "source": [
    "# Load the tokenizer\n",
    "tokenizer = Tokenizer.from_file(\"bpe_tokenizer.json\")\n",
    "\n",
    "# Encode and decode functions\n",
    "encode = lambda s: tokenizer.encode(s).ids\n",
    "decode = lambda l: tokenizer.decode(l)\n",
    "\n",
    "# Example usage\n",
    "encoded = encode(\"Hello, world!\")\n",
    "decoded = decode(encoded)\n",
    "print(f\"Encoded: {encoded}\\nDecoded: {decoded}\")"
   ]
  },
  {
   "cell_type": "code",
   "execution_count": null,
   "metadata": {},
   "outputs": [],
   "source": [
    "from transformers import AutoTokenizer\n",
    "\n",
    "# Load a pretrained tokenizer\n",
    "tokenizer = AutoTokenizer.from_pretrained(\"bert-base-uncased\")\n",
    "\n",
    "# Encode and decode functions using the tokenizer\n",
    "encode = lambda s: tokenizer.encode(s, add_special_tokens=True)\n",
    "decode = lambda l: tokenizer.decode(l, skip_special_tokens=True)\n",
    "\n",
    "# Example usage\n",
    "encoded = encode(\"Hello, world!\")\n",
    "decoded = decode(encoded)\n",
    "print(f\"Encoded: {encoded}\\nDecoded: {decoded}\")"
   ]
  },
  {
   "cell_type": "code",
   "execution_count": null,
   "metadata": {},
   "outputs": [],
   "source": [
    "import torch\n",
    "import time\n",
    "\n",
    "# Assuming 'data' is your tensor on the CPU\n",
    "data = torch.randn(100, 100)  # Example tensor\n",
    "\n",
    "start_time = time.time()\n",
    "data_gpu = data.to('cuda')  # Transfer to GPU\n",
    "end_time = time.time()\n",
    "\n",
    "print(f\"Time taken to transfer tensor to GPU: {end_time - start_time} seconds\")"
   ]
  }
 ],
 "metadata": {
  "kernelspec": {
   "display_name": "venv",
   "language": "python",
   "name": "python3"
  },
  "language_info": {
   "codemirror_mode": {
    "name": "ipython",
    "version": 3
   },
   "file_extension": ".py",
   "mimetype": "text/x-python",
   "name": "python",
   "nbconvert_exporter": "python",
   "pygments_lexer": "ipython3",
   "version": "3.11.7"
  }
 },
 "nbformat": 4,
 "nbformat_minor": 2
}
